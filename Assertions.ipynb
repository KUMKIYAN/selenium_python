{
 "cells": [
  {
   "cell_type": "code",
   "execution_count": 6,
   "metadata": {},
   "outputs": [],
   "source": [
    "#Without Assertion statement, we can not come to conflusion whether test is passed or failed.\n",
    "\n",
    "import unittest\n",
    "from selenium import webdriver\n",
    "\n",
    "class Test(unittest.TestCase):\n",
    "    def testForAssert(self):\n",
    "        driver=webdriver.Chrome(executable_path=\"/Users/kikumar/Documents/drivers/chromedriver\")\n",
    "        driver.get(\"http://newtours.demoaut.com/\")\n",
    "        driver.implicitly_wait(30)\n",
    "        title_of_page = driver.title\n",
    "        self.assertEqual(\"Google\",title_of_page,\"page title is not correct\")\n",
    "    \n",
    "    def testForNotAssert(self):\n",
    "        driver=webdriver.Chrome(executable_path=\"/Users/kikumar/Documents/drivers/chromedriver\")\n",
    "        driver.get(\"http://newtours.demoaut.com/\")\n",
    "        driver.implicitly_wait(30)\n",
    "        title_of_page = driver.title\n",
    "        self.assertNotEqual(\"Google\",title_of_page,\"page title is not correct\")\n",
    "        \n",
    "        self.assertTrue(\"google\"==title_of_page)\n",
    "        self.assertFalse(\"google\"==title_of_page)\n",
    "        \n",
    "        driver = None;\n",
    "        self.assertIsNone(driver)\n",
    "        self.assertIsNotNone(driver)\n",
    "        \n",
    "        #assert in method check whether the first element is present in second element. \n",
    "        #these methods are useful to verify presense of value in a list, tuple, set, and dictionary\n",
    "        self.assertIn(first_element,second_element)\n",
    "        self.assertNotIn(first_element,second_element)\n",
    "        \n",
    "        self.assertGreater(10,100) #first number should be greater than second number\n",
    "        self.assertGreaterEqual(10,100) #first number should be greater than or equal to second number\n",
    "        self.assertLess(0,1000) #first number should be less than second number\n",
    "        self.assertLessEqual(10,10) # first number should be less than or equal to second number\n",
    "        \n",
    "if __name__ != \"__main__\":\n",
    "    unittest.main()"
   ]
  },
  {
   "cell_type": "code",
   "execution_count": null,
   "metadata": {},
   "outputs": [],
   "source": []
  }
 ],
 "metadata": {
  "kernelspec": {
   "display_name": "Python 3",
   "language": "python",
   "name": "python3"
  },
  "language_info": {
   "codemirror_mode": {
    "name": "ipython",
    "version": 3
   },
   "file_extension": ".py",
   "mimetype": "text/x-python",
   "name": "python",
   "nbconvert_exporter": "python",
   "pygments_lexer": "ipython3",
   "version": "3.7.1"
  }
 },
 "nbformat": 4,
 "nbformat_minor": 2
}
