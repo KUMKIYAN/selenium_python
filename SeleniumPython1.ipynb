{
 "cells": [
  {
   "cell_type": "code",
   "execution_count": 1,
   "metadata": {},
   "outputs": [
    {
     "name": "stdout",
     "output_type": "stream",
     "text": [
      "Welcome: Mercury Tours\n",
      "http://newtours.demoaut.com/\n"
     ]
    }
   ],
   "source": [
    "from selenium import webdriver\n",
    "from selenium.webdriver.common.keys import Keys\n",
    "driver=webdriver.Chrome(executable_path=\"/Users/kikumar/Documents/drivers/chromedriver\")\n",
    "driver.get(\"http://newtours.demoaut.com/\")\n",
    "print(driver.title)\n",
    "print(driver.current_url)\n",
    "driver.close()\n",
    "driver.quit()"
   ]
  },
  {
   "cell_type": "code",
   "execution_count": 2,
   "metadata": {},
   "outputs": [
    {
     "name": "stdout",
     "output_type": "stream",
     "text": [
      "Frames & windows\n",
      "http://demo.automationtesting.in/Windows.html\n"
     ]
    }
   ],
   "source": [
    "from selenium import webdriver\n",
    "from selenium.webdriver.common.keys import Keys\n",
    "import time\n",
    "driver=webdriver.Chrome(executable_path=\"/Users/kikumar/Documents/drivers/chromedriver\")\n",
    "driver.get(\"http://demo.automationtesting.in/Windows.html\")\n",
    "print(driver.title)\n",
    "print(driver.current_url)\n",
    "driver.find_element_by_xpath(\"//*[@id='Tabbed']/a/button\").click()\n",
    "time.sleep(5)\n",
    "driver.close()  \n"
   ]
  },
  {
   "cell_type": "code",
   "execution_count": null,
   "metadata": {},
   "outputs": [],
   "source": [
    "The above close method will close only the first window. it will not close the window/tab that has \n",
    "initiated as part of script. Where as in below quit method will close all the windows/tabs."
   ]
  },
  {
   "cell_type": "code",
   "execution_count": 6,
   "metadata": {},
   "outputs": [
    {
     "name": "stdout",
     "output_type": "stream",
     "text": [
      "Frames & windows\n",
      "http://demo.automationtesting.in/Windows.html\n"
     ]
    }
   ],
   "source": [
    "from selenium import webdriver\n",
    "from selenium.webdriver.common.keys import Keys\n",
    "import time\n",
    "driver=webdriver.Chrome(executable_path=\"/Users/kikumar/Documents/drivers/chromedriver\")\n",
    "driver.get(\"http://demo.automationtesting.in/Windows.html\")\n",
    "print(driver.title)\n",
    "print(driver.current_url)\n",
    "driver.find_element_by_xpath(\"//*[@id='Tabbed']/a/button\").click()\n",
    "time.sleep(5)\n",
    "driver.quit()  // close all the browser"
   ]
  },
  {
   "cell_type": "code",
   "execution_count": null,
   "metadata": {},
   "outputs": [],
   "source": [
    "driver.back()\n",
    "driver.forward()"
   ]
  },
  {
   "cell_type": "code",
   "execution_count": 8,
   "metadata": {},
   "outputs": [
    {
     "name": "stdout",
     "output_type": "stream",
     "text": [
      "Welcome: Mercury Tours\n",
      "SDET\n",
      "Welcome: Mercury Tours\n",
      "SDET\n"
     ]
    }
   ],
   "source": [
    "from selenium import webdriver\n",
    "from selenium.webdriver.common.keys import Keys\n",
    "import time\n",
    "driver=webdriver.Chrome(executable_path=\"/Users/kikumar/Documents/drivers/chromedriver\")\n",
    "driver.get(\"http://newtours.demoaut.com/\")\n",
    "print(driver.title)\n",
    "driver.get(\"http://pavantestingtools.blogspot.in/\")\n",
    "time.sleep(5)\n",
    "print(driver.title)\n",
    "driver.back()\n",
    "time.sleep(5)\n",
    "print(driver.title)\n",
    "driver.forward()\n",
    "time.sleep(5)\n",
    "print(driver.title)\n",
    "driver.quit()"
   ]
  },
  {
   "cell_type": "code",
   "execution_count": null,
   "metadata": {},
   "outputs": [],
   "source": [
    "print(user_element.is_displayed()) # return true/false based on element status\n",
    "print(user_element.is_enabled()) # return true/false\n",
    "print(one_way_element.is_selected()) # check whether radio button / check box is selected ?"
   ]
  },
  {
   "cell_type": "code",
   "execution_count": 12,
   "metadata": {},
   "outputs": [
    {
     "name": "stdout",
     "output_type": "stream",
     "text": [
      "True\n",
      "True\n",
      "True\n",
      "True\n",
      "True\n",
      "False\n"
     ]
    }
   ],
   "source": [
    "from selenium import webdriver\n",
    "from selenium.webdriver.common.keys import Keys\n",
    "import time\n",
    "driver=webdriver.Chrome(executable_path=\"/Users/kikumar/Documents/drivers/chromedriver\")\n",
    "driver.get(\"http://newtours.demoaut.com/\")\n",
    "user_element=driver.find_element_by_name(\"userName\");\n",
    "print(user_element.is_displayed()) # return true/false based on element status\n",
    "print(user_element.is_enabled()) # return true/false\n",
    "pass_element=driver.find_element_by_name(\"password\");\n",
    "print(pass_element.is_displayed()) # return true/false based on element status\n",
    "print(pass_element.is_enabled()) # return true/false\n",
    "user_element.send_keys(\"mercury\")\n",
    "pass_element.send_keys(\"mercury\")\n",
    "driver.find_element_by_name(\"login\").click()\n",
    "time.sleep(5)\n",
    "#driver.is_selected() # print the status of radio button / check box\n",
    "round_trip_element=driver.find_element_by_css_selector(\"input[value=roundtrip]\")\n",
    "print(round_trip_element.is_selected())\n",
    "time.sleep(5)\n",
    "one_way_element=driver.find_element_by_css_selector(\"input[value=oneway]\")\n",
    "print(one_way_element.is_selected())\n",
    "time.sleep(5)\n",
    "driver.quit()"
   ]
  },
  {
   "cell_type": "code",
   "execution_count": null,
   "metadata": {},
   "outputs": [],
   "source": [
    "Implicit wait\n",
    "Explicit wait"
   ]
  },
  {
   "cell_type": "code",
   "execution_count": 26,
   "metadata": {},
   "outputs": [],
   "source": [
    "from selenium import webdriver\n",
    "from selenium.webdriver.common.keys import Keys\n",
    "import time\n",
    "driver=webdriver.Chrome(executable_path=\"/Users/kikumar/Documents/drivers/chromedriver\")\n",
    "driver.get(\"http://newtours.demoaut.com/\")\n",
    "driver.implicitly_wait(30)\n",
    "assert \"Welcome: Mercury Tours\" in driver.title\n",
    "user_element=driver.find_element_by_name(\"userName\");"
   ]
  },
  {
   "cell_type": "code",
   "execution_count": 9,
   "metadata": {},
   "outputs": [],
   "source": [
    "from selenium import webdriver\n",
    "from selenium.webdriver.common.keys import Keys\n",
    "from selenium.webdriver.common.by import By\n",
    "from selenium.webdriver.support import expected_conditions as EC\n",
    "from selenium.webdriver.support.ui import WebDriverWait\n",
    "import time\n",
    "driver=webdriver.Chrome(executable_path=\"/Users/kikumar/Documents/drivers/chromedriver\")\n",
    "driver.get(\"http://www.expedia.com/\")\n",
    "driver.find_element(By.ID,'tab-flight-tab-hp').click()\n",
    "driver.find_element(By.ID,'flight-origin-hp-flight').send_keys('SFO')\n",
    "driver.find_element(By.ID,'flight-destination-hp-flight').send_keys('NYC')\n",
    "driver.find_element(By.ID,'flight-departing-hp-flight').clear()\n",
    "driver.execute_script('arguments[0].value=\"08/21/2019\"', driver.find_element(By.ID,'flight-departing-hp-flight'))\n",
    "driver.find_element(By.ID,'flight-returning-hp-flight').clear()\n",
    "driver.execute_script('arguments[0].value=\"08/25/2019\"', driver.find_element(By.ID,'flight-returning-hp-flight'))\n",
    "driver.find_element(By.XPATH,'//*[@id=\"gcw-flights-form-hp-flight\"]/div[7]/label/button').click()\n",
    "wait=WebDriverWait(driver,10);\n",
    "element = wait.until(EC.element_to_be_clickable((By.XPATH,\"//*[@id='stopFilter_stops-0']\")))\n",
    "element.click()\n",
    "time.sleep(3)\n",
    "driver.quit()"
   ]
  },
  {
   "cell_type": "code",
   "execution_count": null,
   "metadata": {},
   "outputs": [],
   "source": [
    "find_elements\n",
    "enter value to text box\n",
    "check is element is is_displayed()/is_enabled()\n",
    "is_selected() method is applicable only for checkboxes and raido buttons"
   ]
  },
  {
   "cell_type": "code",
   "execution_count": 11,
   "metadata": {},
   "outputs": [
    {
     "name": "stdout",
     "output_type": "stream",
     "text": [
      "0\n"
     ]
    }
   ],
   "source": [
    "from selenium import webdriver\n",
    "from selenium.webdriver.common.by import By\n",
    "driver=webdriver.Chrome(executable_path=\"/Users/kikumar/Documents/drivers/chromedriver\")\n",
    "driver.get(\"https://fs2/formsite.com/meherpavan/form2/index.html?1537702596407\")\n",
    "input_boxes=driver.find_elements_by_class_name(\"text_field\")\n",
    "print(len(input_boxes))\n",
    "status = driver.find_element_by_id(\"RESULT_TextField-1\").is_displayed()\n",
    "print(status)\n",
    "status = driver.find_element_by_id(\"RESULT_TextField-1\").is_enabled()\n",
    "print(status)\n",
    "status = driver.find_element_by_id(\"RESULT_RADIO_BUTTON-1\").is_selected() \n",
    "print(status)\n",
    "status = driver.find_element_by_id(\"RESULT_CHECK_BOX-1\").is_selected()\n",
    "print(status)"
   ]
  },
  {
   "cell_type": "code",
   "execution_count": null,
   "metadata": {},
   "outputs": [],
   "source": [
    "Select dropdown\n",
    "select one option\n",
    "capture options from drop down\n",
    "count how many options present"
   ]
  },
  {
   "cell_type": "code",
   "execution_count": 18,
   "metadata": {},
   "outputs": [
    {
     "name": "stdout",
     "output_type": "stream",
     "text": [
      "7\n",
      "Asia\n",
      "Europe\n",
      "Africa\n",
      "Australia\n",
      "South America\n",
      "North America\n",
      "Antartica\n"
     ]
    }
   ],
   "source": [
    "from selenium import webdriver\n",
    "from selenium.webdriver.support.ui import Select\n",
    "driver=webdriver.Chrome(executable_path=\"/Users/kikumar/Documents/drivers/chromedriver\")\n",
    "driver.get(\"https://www.toolsqa.com/automation-practice-form/\")\n",
    "dropdown = Select(driver.find_element_by_id('continents'))\n",
    "#dropdown.select_by_value('Australia') #Option with value attribute should present\n",
    "dropdown.select_by_visible_text('Antartica')\n",
    "time.sleep(5)\n",
    "dropdown.select_by_index(2)\n",
    "time.sleep(5)\n",
    "print(len(dropdown.options))\n",
    "for ele in dropdown.options:\n",
    "    print(ele.text)\n",
    "driver.quit()"
   ]
  },
  {
   "cell_type": "code",
   "execution_count": 19,
   "metadata": {},
   "outputs": [
    {
     "name": "stdout",
     "output_type": "stream",
     "text": [
      "Number of links present  16\n",
      "Home\n",
      "Flights\n",
      "Hotels\n",
      "Car Rentals\n",
      "Cruises\n",
      "Destinations\n",
      "Vacations\n",
      "SIGN-ON\n",
      "REGISTER\n",
      "SUPPORT\n",
      "CONTACT\n",
      "your destination\n",
      "featured vacation destinations\n",
      "Register here\n",
      "Business Travel @ About.com\n",
      "Salon Travel\n"
     ]
    }
   ],
   "source": [
    "#working with links\n",
    "\n",
    "from selenium import webdriver\n",
    "from selenium.webdriver.support.ui import Select\n",
    "driver=webdriver.Chrome(executable_path=\"/Users/kikumar/Documents/drivers/chromedriver\")\n",
    "driver.get(\"http://newtours.demoaut.com/\")\n",
    "links=driver.find_elements(By.TAG_NAME,\"a\")\n",
    "print(\"Number of links present \", len(links))\n",
    "for link in links:\n",
    "    print(link.text)\n",
    "driver.find_element_by_link_text('REGISTER').click()\n",
    "driver.find_element_by_partial_link_text('REGIS').click()  \n",
    "driver.quit()"
   ]
  },
  {
   "cell_type": "code",
   "execution_count": 23,
   "metadata": {},
   "outputs": [
    {
     "name": "stdout",
     "output_type": "stream",
     "text": [
      "Press a button!\n"
     ]
    }
   ],
   "source": [
    "#Working with Alerts:\n",
    "\n",
    "from selenium import webdriver\n",
    "from selenium.webdriver.support.ui import Select\n",
    "driver=webdriver.Chrome(executable_path=\"/Users/kikumar/Documents/drivers/chromedriver\")\n",
    "driver.get(\"http://testautomationpractice.blogspot.com/\")\n",
    "driver.find_element_by_xpath(\"//*[@id='HTML9']/div[1]/button\").click()\n",
    "time.sleep(5)\n",
    "driver.switch_to.alert.accept()\n",
    "time.sleep(3)\n",
    "driver.find_element_by_xpath(\"//*[@id='HTML9']/div[1]/button\").click()\n",
    "time.sleep(3)\n",
    "print(driver.switch_to.alert.text)\n",
    "driver.switch_to.alert.dismiss()\n",
    "time.sleep(3)\n",
    "driver.quit()"
   ]
  },
  {
   "cell_type": "code",
   "execution_count": 25,
   "metadata": {},
   "outputs": [],
   "source": [
    "#working with frames\n",
    "#switch_to.frame(name)\n",
    "#switch_to.frame(id)\n",
    "from selenium import webdriver\n",
    "from selenium.webdriver.support.ui import Select\n",
    "driver=webdriver.Chrome(executable_path=\"/Users/kikumar/Documents/drivers/chromedriver\")\n",
    "driver.get(\"http://seleniumhq.github.io/selenium/docs/api/java/index.html\")\n",
    "driver.switch_to.frame('packageListFrame')\n",
    "driver.find_element_by_link_text('org.openqa.selenium').click()\n",
    "time.sleep(3)\n",
    "driver.switch_to.default_content()\n",
    "driver.switch_to.frame('packageFrame')\n",
    "driver.find_element_by_link_text('WebDriver').click()\n",
    "time.sleep(3)\n",
    "driver.switch_to.default_content()\n",
    "driver.switch_to.frame(\"classFrame\")\n",
    "driver.find_element_by_xpath(\"/html/body/div[1]/ul/li[5]\").click()\n",
    "time.sleep(3)\n",
    "driver.switch_to.default_content()\n",
    "driver.quit()"
   ]
  }
 ],
 "metadata": {
  "kernelspec": {
   "display_name": "Python 3",
   "language": "python",
   "name": "python3"
  },
  "language_info": {
   "codemirror_mode": {
    "name": "ipython",
    "version": 3
   },
   "file_extension": ".py",
   "mimetype": "text/x-python",
   "name": "python",
   "nbconvert_exporter": "python",
   "pygments_lexer": "ipython3",
   "version": "3.7.1"
  }
 },
 "nbformat": 4,
 "nbformat_minor": 2
}
