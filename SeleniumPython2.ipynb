{
 "cells": [
  {
   "cell_type": "code",
   "execution_count": 5,
   "metadata": {},
   "outputs": [
    {
     "name": "stdout",
     "output_type": "stream",
     "text": [
      "CDwindow-1AECD831D8A308198E67495A4BCF9B44\n",
      "Frames & windows\n",
      "CDwindow-C8CDC2B1307DED952F3941F6DF14346C\n",
      "Sakinalium | Home\n"
     ]
    }
   ],
   "source": [
    "from selenium import webdriver\n",
    "from selenium.webdriver.common.by import By\n",
    "import time\n",
    "driver = webdriver.Chrome(executable_path=\"/Users/kikumar/Documents/drivers/chromedriver\")\n",
    "driver.get('http://demo.automationtesting.in/Windows.html')\n",
    "driver.find_element_by_xpath('//*[@id=\"Tabbed\"]/a/button').click()\n",
    "handles = driver.window_handles\n",
    "for handle in handles:\n",
    "    print(handle)\n",
    "    driver.switch_to.window(handle)\n",
    "    print(driver.title)\n",
    "    if driver.title == 'Frames & windows':\n",
    "        driver.close()\n",
    "\n",
    "time.sleep(3)        \n",
    "driver.quit()    "
   ]
  },
  {
   "cell_type": "code",
   "execution_count": null,
   "metadata": {},
   "outputs": [],
   "source": [
    "working with tables:"
   ]
  },
  {
   "cell_type": "code",
   "execution_count": null,
   "metadata": {},
   "outputs": [],
   "source": [
    "for r in range(2, rows+1):\n",
    "    for c in range (1, cols+1):\n",
    "        value=driver.find_element_by_xpath(\"/html/body/table/tbody/tr[\"+ str(r) + \"]/td[\" + str(r) + \"]\")\n",
    "        print(value,end='    ')\n",
    "    println()"
   ]
  },
  {
   "cell_type": "code",
   "execution_count": null,
   "metadata": {},
   "outputs": [],
   "source": [
    "working with scorll:\n",
    "    Scroll down the page by pixel\n",
    "    driver.execute_script(\"window.scrollBy(0,500)\",\"\")\n",
    "    Scroll down the page till element found\n",
    "    driver.execute_script(\"arguments[0].scrollIntoView();\", element)\n",
    "    Scroll to the end of the page\n",
    "    driver.execute_script(\"window.scrollBy(0,document.body.scrollHeight)\")"
   ]
  },
  {
   "cell_type": "code",
   "execution_count": null,
   "metadata": {},
   "outputs": [],
   "source": [
    "Mouse Actions:\n",
    "    Mouse Hover\n",
    "    Double Click\n",
    "    Right Click\n",
    "    Drag And Drop"
   ]
  },
  {
   "cell_type": "code",
   "execution_count": 8,
   "metadata": {},
   "outputs": [],
   "source": [
    "from selenium import webdriver\n",
    "from selenium.webdriver import ActionChains\n",
    "import time\n",
    "driver = webdriver.Chrome(executable_path=\"/Users/kikumar/Documents/drivers/chromedriver\")\n",
    "driver.get('http://opensource-demo.orangehrmlive.com')\n",
    "driver.find_element_by_xpath(\"//*[@id='txtUsername']\").send_keys(\"Admin\")\n",
    "driver.find_element_by_xpath(\"//*[@id='txtPassword']\").send_keys(\"admin123\")\n",
    "driver.find_element_by_xpath(\"//*[@id='btnLogin']\").click()\n",
    "admin=driver.find_element_by_xpath(\"//*[@id='menu_admin_viewAdminModule']/b\")\n",
    "user_management=driver.find_element_by_xpath(\"//*[@id='menu_admin_UserManagement']\")\n",
    "users=driver.find_element_by_xpath(\"//*[@id='menu_admin_viewSystemUsers']\")\n",
    "\n",
    "actions = ActionChains(driver)\n",
    "actions.move_to_element(admin).move_to_element(user_management).move_to_element(users).click().perform()"
   ]
  },
  {
   "cell_type": "code",
   "execution_count": 10,
   "metadata": {},
   "outputs": [],
   "source": [
    "from selenium import webdriver\n",
    "from selenium.webdriver import ActionChains\n",
    "import time\n",
    "driver = webdriver.Chrome(executable_path=\"/Users/kikumar/Documents/drivers/chromedriver\")\n",
    "driver.get('https://testautomationpractice.blogspot.com')\n",
    "element=driver.find_element_by_xpath(\"//*[@id='HTML10']/div[1]/button\")\n",
    "actions = ActionChains(driver)\n",
    "actions.double_click(element).perform()"
   ]
  },
  {
   "cell_type": "code",
   "execution_count": 11,
   "metadata": {},
   "outputs": [],
   "source": [
    "from selenium import webdriver\n",
    "from selenium.webdriver import ActionChains\n",
    "import time\n",
    "driver = webdriver.Chrome(executable_path=\"/Users/kikumar/Documents/drivers/chromedriver\")\n",
    "driver.get('https://swisnl.github.io/jQuery-contextMenu/demo.html')\n",
    "element=driver.find_element_by_xpath(\"/html/body/div/section/div/div/div/p/span\")\n",
    "actions = ActionChains(driver)\n",
    "actions.context_click(element).perform()"
   ]
  },
  {
   "cell_type": "code",
   "execution_count": 13,
   "metadata": {},
   "outputs": [],
   "source": [
    "from selenium import webdriver\n",
    "from selenium.webdriver import ActionChains\n",
    "import time\n",
    "driver = webdriver.Chrome(executable_path=\"/Users/kikumar/Documents/drivers/chromedriver\")\n",
    "driver.get('http://dhtmlgoodies.com/scripts/drag-drop-custom/demo-drag-drop-3.html')\n",
    "source_element=driver.find_element_by_xpath(\"//*[@id='box6']\")\n",
    "destination_element=driver.find_element_by_xpath(\"//*[@id='box106']\")\n",
    "actions = ActionChains(driver)\n",
    "actions.drag_and_drop(source_element,destination_element).perform()"
   ]
  },
  {
   "cell_type": "code",
   "execution_count": null,
   "metadata": {},
   "outputs": [],
   "source": [
    "from selenium import webdriver\n",
    "import time\n",
    "driver=webdriver.Chrome(executable_path=\"/Users/kikumar/Documents/drivers/chromedriver\")\n",
    "driver.get(\"https://testautomationpractice.blogspot.com/\")\n",
    "time.sleep(10)\n",
    "driver.execute_script(\"arguments[0].scrollIntoView();\", driver.find_element_by_id(\"RESULT_FileUpload-11\"))\n",
    "driver.find_element_by_id('RESULT_FileUpload-11').send_keys(\"/Users/kikumar/Desktop/1.png\")"
   ]
  }
 ],
 "metadata": {
  "kernelspec": {
   "display_name": "Python 3",
   "language": "python",
   "name": "python3"
  },
  "language_info": {
   "codemirror_mode": {
    "name": "ipython",
    "version": 3
   },
   "file_extension": ".py",
   "mimetype": "text/x-python",
   "name": "python",
   "nbconvert_exporter": "python",
   "pygments_lexer": "ipython3",
   "version": "3.7.1"
  }
 },
 "nbformat": 4,
 "nbformat_minor": 2
}
