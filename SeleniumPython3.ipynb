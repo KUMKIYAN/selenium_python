{
 "cells": [
  {
   "cell_type": "code",
   "execution_count": null,
   "metadata": {},
   "outputs": [],
   "source": [
    "from selenium import webdriver\n",
    "from selenium.webdriver.chrome.options import Options\n",
    "chromeOptions = Options()\n",
    "chromeOptions.add_experimental_option(\"prefs\",{\"download.default_directory\":\"/Users/kikumar/Documents/kiyanmachinelearning\"})\n",
    "driver=webdriver.Chrome(executable_path=\"/Users/kikumar/Documents/drivers/chromedriver\", chrome_options=chromeOptions)\n",
    "driver.get(\"http://demo.automationtesting.in/FileDownload.html\")\n",
    "driver.find_element_by_id(\"textbox\").send_keys(\"testng download text file\")\n",
    "driver.find_element_by_id(\"createTxt\").click()\n",
    "driver.find_element_by_id(\"link-to-download\").click()"
   ]
  },
  {
   "cell_type": "code",
   "execution_count": null,
   "metadata": {},
   "outputs": [],
   "source": [
    "from selenium import webdriver\n",
    "fp=webdriver.FirefoxProfile()\n",
    "fp.set_preference(\"browser.helperApps.neverAsk.saveToDisk\",\"text/plain,application/pdf\")\n",
    "fp.set_preference(\"browser.download.manager.showWhenStarting\",False)\n",
    "fp.set_preference(\"browser.download.dir\",\"/Users/kikumar/Documents/kiyanmachinelearning\")\n",
    "fp.set_preference(\"browser.download.folderList\",2)\n",
    "fp.set_preference(\"pdfjs.disabled\",True)\n",
    "\n",
    "driver=webdriver.Firefox(executable_path=\"/Users/kikumar/Documents/drivers/geckodriver\", firefox_options=fp)\n",
    "driver.get(\"http://demo.automationtesting.in/FileDownload.html\")\n",
    "driver.find_element_by_id(\"textbox\").send_keys(\"testng download text file\")\n",
    "driver.find_element_by_id(\"createTxt\").click()\n",
    "driver.find_element_by_id(\"link-to-download\").click()"
   ]
  },
  {
   "cell_type": "code",
   "execution_count": null,
   "metadata": {},
   "outputs": [],
   "source": [
    "read values to excel\n",
    "import openpyxl\n",
    "path=\"/Users/kikumar/Documents/kiyanmachinelearning/123.xlsx\"\n",
    "workbook=openpyxl.load_workbook(path)\n",
    "sheet = workbook.active\n",
    "rows = sheet.max_row\n",
    "cols = sheet.max_column\n",
    "print(rows)\n",
    "print(cols)\n",
    "for r in range(1,rows+1):\n",
    "    for c in range(1, cols+1):\n",
    "        print(sheet.cell(row=r,column=c).value, end= \"  \")\n",
    "    print()"
   ]
  },
  {
   "cell_type": "code",
   "execution_count": null,
   "metadata": {},
   "outputs": [],
   "source": [
    "Write values to excel\n",
    "import openpyxl\n",
    "path=\"/Users/kikumar/Documents/kiyanmachinelearning/123.xlsx\"\n",
    "workbook=openpyxl.load_workbook(path)\n",
    "sheet = workbook.active\n",
    "rows = sheet.max_row\n",
    "cols = sheet.max_column\n",
    "print(rows)\n",
    "print(cols)\n",
    "for r in range(1,6):\n",
    "    for c in range(1,4):\n",
    "        sheet.cell(row=r,column=c).value = \"Welcome\"\n",
    "workbook.save(path)"
   ]
  },
  {
   "cell_type": "code",
   "execution_count": null,
   "metadata": {},
   "outputs": [],
   "source": [
    "Data Driven Test:\n",
    "from selenium import webdriver\n",
    "driver=webdriver.Chrome(executable_path=\"/Users/kikumar/Documents/drivers/chromedriver\")\n",
    "driver.get(\"http://newtours.demoaut.com/\")\n",
    "driver.maximize_window()\n",
    "path=\"/Users/kikumar/Documents/kiyanmachinelearning/123.xlsx\"\n",
    "rows=XLUtils.getRowCount(path,\"Sheet1\")\n",
    "for r in range(2,rows+1):\n",
    "    username=XLUtils.readData(path,\"Sheet1\",r,1)\n",
    "    password=XLUtils.readData(path,\"Sheet1\",r,2)\n",
    "    \n",
    "    driver.find_element_by_name(\"username\").send_keys(username)\n",
    "    driver.find_element_by_name(\"password\").send_keys(password)\n",
    "    \n",
    "    driver.find_element_by_name(\"login\").click()\n",
    "    \n",
    "    if driver.title==\"Find a Flight:Mercury Tours\":\n",
    "        print(\"test pass\")\n",
    "        XLUtils.writeData(path,\"Sheet1\",r,3,\"test passed\")\n",
    "    else:\n",
    "        print(\"test fail\")\n",
    "        XLUtils.writeData(path,\"Sheet1\",r,3,\"test failed\")\n",
    "        \n",
    "    driver.find_element_by_link_text(\"Home\").click()"
   ]
  },
  {
   "cell_type": "code",
   "execution_count": null,
   "metadata": {},
   "outputs": [],
   "source": [
    "Handling Cookies\n",
    "from selenium import webdriver\n",
    "import time\n",
    "driver=webdriver.Chrome(executable_path=\"/Users/kikumar/Documents/drivers/chromedriver\")\n",
    "driver.get(\"https://www.amazon.in\")\n",
    "cookies = driver.get_cookies()\n",
    "print(len(cookies))\n",
    "print(cookies)\n",
    "cookie = {'name':'myName','value':'1234567890'}\n",
    "driver.add_cookie(cookie)\n",
    "cookies = driver.get_cookies()\n",
    "print(len(cookies))\n",
    "print(cookies)\n",
    "cookies.delete_cookie('MyCookie')\n",
    "time.sleep(3)\n",
    "cookies = driver.get_cookies()\n",
    "print(len(cookies))\n",
    "cookies.delete_all_cookies()\n",
    "cookies=driver.get_cookies()\n",
    "print(len(cookies))"
   ]
  },
  {
   "cell_type": "code",
   "execution_count": null,
   "metadata": {},
   "outputs": [],
   "source": [
    "Taking screenshots\n",
    "from selenium import webdriver\n",
    "driver=webdriver.Chrome(executable_path=\"/Users/kikumar/Documents/drivers/chromedriver\")\n",
    "driver.get(\"https://www.amazon.in\")\n",
    "driver.save_screenshot(\"/Users/kikumar/Documents/drivers\")\n",
    "driver.get_screenshot_as_file(\"/Users/kikumar/Documents/drivers\")"
   ]
  },
  {
   "cell_type": "code",
   "execution_count": null,
   "metadata": {},
   "outputs": [],
   "source": [
    "import logging\n",
    "logging.debug(\"this is debug message\")\n",
    "logging.info(\"this is info message\")\n",
    "logging.warning(\"this is warning message\")\n",
    "logging.error(\"this is error message\")\n",
    "logging.critical(\"this is critical message\")\n",
    "\n",
    "by default log will happen from warning.\n",
    "if we want to add above levels please introduce below line next below the import statement    \n",
    "logging = logging.getLogger()\n",
    "logging.setLevel(logging.DEBUG)\n",
    "\n",
    "Inorder to write all logs into a file please introduce below line next below the import statement\n",
    "logging.basicConfig(filename=\"/Users/kikumar/Documents/drivers/test.log\",\n",
    "                    format='%(asctime)s: %(levelname)s: %(message)s',\n",
    "                    datefmt='%m/%d/%Y %I:%M:%S %p')\n",
    "                    level=logging.DEBUG)"
   ]
  }
 ],
 "metadata": {
  "kernelspec": {
   "display_name": "Python 3",
   "language": "python",
   "name": "python3"
  },
  "language_info": {
   "codemirror_mode": {
    "name": "ipython",
    "version": 3
   },
   "file_extension": ".py",
   "mimetype": "text/x-python",
   "name": "python",
   "nbconvert_exporter": "python",
   "pygments_lexer": "ipython3",
   "version": "3.7.1"
  }
 },
 "nbformat": 4,
 "nbformat_minor": 2
}
