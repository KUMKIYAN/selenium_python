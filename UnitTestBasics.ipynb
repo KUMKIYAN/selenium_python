{
 "cells": [
  {
   "cell_type": "code",
   "execution_count": 6,
   "metadata": {},
   "outputs": [
    {
     "name": "stdout",
     "output_type": "stream",
     "text": [
      "__main__\n"
     ]
    }
   ],
   "source": [
    "print(__name__)  # it gives current module name"
   ]
  },
  {
   "cell_type": "code",
   "execution_count": null,
   "metadata": {},
   "outputs": [],
   "source": [
    "import unittest\n",
    "from selenium import webdriver\n",
    "\n",
    "class SearchEngineTest(unittest.TestCase):\n",
    "    def test_google(self):\n",
    "        self.driver=webdriver.Chrome(executable_path=\"/Users/kikumar/Documents/drivers/chromedriver\")\n",
    "        self.driver.get(\"https://www.google.com\")\n",
    "        print(\"Title of the page is :\"+self.driver.title)\n",
    "        self.driver.close()\n",
    "        \n",
    "    def test_bing(self):\n",
    "        self.driver=webdriver.Chrome(executable_path=\"/Users/kikumar/Documents/drivers/chromedriver\")\n",
    "        self.driver.get(\"https://www.bing.com\")\n",
    "        print(\"Title of the page is :\"+self.driver.title)\n",
    "        self.driver.close()\n",
    "        \n",
    "if __name__ == \"__main__\": #if the module is current module\n",
    "    unittest.main()"
   ]
  },
  {
   "cell_type": "code",
   "execution_count": null,
   "metadata": {},
   "outputs": [],
   "source": [
    "import unittest\n",
    "\n",
    "class EngineTest(unittest.TestCase):\n",
    "    def test_google(self):\n",
    "       print(\"this is my first test case\")\n",
    "    \n",
    "if __name__ == \"__main__\": #if the module is current module\n",
    "    unittest.main()"
   ]
  },
  {
   "cell_type": "code",
   "execution_count": null,
   "metadata": {},
   "outputs": [],
   "source": [
    "Python UnitTest Framework:\n",
    "    \n",
    "    the below two methos will be executed for every method before and after. \n",
    "    use @classmethod annotation\n",
    "    -setup\n",
    "    -teardown\n",
    "    \n",
    "    the below two methos will be executed only once that is before and after all test methods. \n",
    "    use @classmethod annotation\n",
    "    -setUpClass\n",
    "    -tearDownClass\n",
    "    \n",
    "    the below two methos will be executed only once before and after any class and any method. \n",
    "    use @classmethod annotation\n",
    "    \n",
    "    -setUpModule\n",
    "    -tearDownModule"
   ]
  },
  {
   "cell_type": "code",
   "execution_count": 7,
   "metadata": {},
   "outputs": [
    {
     "ename": "SyntaxError",
     "evalue": "invalid syntax (<ipython-input-7-41cdcbd1f642>, line 5)",
     "output_type": "error",
     "traceback": [
      "\u001b[0;36m  File \u001b[0;32m\"<ipython-input-7-41cdcbd1f642>\"\u001b[0;36m, line \u001b[0;32m5\u001b[0m\n\u001b[0;31m    print(this is login test)\u001b[0m\n\u001b[0m                           ^\u001b[0m\n\u001b[0;31mSyntaxError\u001b[0m\u001b[0;31m:\u001b[0m invalid syntax\n"
     ]
    }
   ],
   "source": [
    "import unittest\n",
    "\n",
    "def setupModule():\n",
    "    print(\"setup Module\")\n",
    "    \n",
    "def setupModule():\n",
    "    print(\"after Module\")     \n",
    "        \n",
    "        \n",
    "class AppTest(unittest.TestCase):\n",
    "    @classmethod\n",
    "    def setUp(self):\n",
    "        print(\"this is login test\")\n",
    "    \n",
    "    @classmethod\n",
    "    def tearDown(self):\n",
    "        print(\"this is logout test\")\n",
    "        \n",
    "    @classmethod\n",
    "    def setUpClass(cls):\n",
    "        print(\"Open the application\")\n",
    "        \n",
    "    @classmethod\n",
    "    def tearDownClass(cls):\n",
    "        print(\"Close the application\")    \n",
    "        \n",
    "    def test_search(self):\n",
    "        print(\"this is search test\")\n",
    "    \n",
    "    def test_advancesearch(self):\n",
    "        print(\"this is advance search\")\n",
    "    \n",
    "    def test_prepaidRecharge(self):\n",
    "        print(\"this is prepaid recharge test\")\n",
    "    \n",
    "    def test_postpaidPayment(self):\n",
    "        print(\"this is postpaid payment test\")"
   ]
  },
  {
   "cell_type": "code",
   "execution_count": null,
   "metadata": {},
   "outputs": [],
   "source": []
  }
 ],
 "metadata": {
  "kernelspec": {
   "display_name": "Python 3",
   "language": "python",
   "name": "python3"
  },
  "language_info": {
   "codemirror_mode": {
    "name": "ipython",
    "version": 3
   },
   "file_extension": ".py",
   "mimetype": "text/x-python",
   "name": "python",
   "nbconvert_exporter": "python",
   "pygments_lexer": "ipython3",
   "version": "3.7.1"
  }
 },
 "nbformat": 4,
 "nbformat_minor": 2
}
